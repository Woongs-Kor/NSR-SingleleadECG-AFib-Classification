{
 "cells": [
  {
   "cell_type": "code",
   "execution_count": null,
   "id": "e15644fc",
   "metadata": {},
   "outputs": [],
   "source": [
    "import numpy as np\n",
    "import pandas as pd\n",
    "import matplotlib.pyplot as plt\n",
    "import random\n",
    "import os\n",
    "import glob"
   ]
  },
  {
   "cell_type": "code",
   "execution_count": null,
   "id": "64ade82a",
   "metadata": {},
   "outputs": [],
   "source": [
    "# The variable name 'PID' is used for convenience, representing an encrypted patient identification number\n",
    "\n",
    "label = pd.read_csv('path/to/your_file.csv')\n",
    "label['PID'] = label['PID'].astype(str)\n",
    "label.drop_duplicates(['PID'], ignore_index=True, inplace=True)\n",
    "label"
   ]
  },
  {
   "cell_type": "code",
   "execution_count": null,
   "id": "1db43cb8",
   "metadata": {},
   "outputs": [],
   "source": [
    "# Split data into chunks of 2500 samples (10 sec x 250 Hz) and save\n",
    "# path1 = path to the existing files, path2 = path to save the split signals\n",
    "\n",
    "def signalprocessing(path1, PID, path2):\n",
    "    # Load numpy array from file\n",
    "    a = np.load(path1 + PID + '.npy')\n",
    "    \n",
    "    # Slice the signal data by multiples of 2500 for splitting\n",
    "    # Sampling rate 250 Hz x 10 seconds  \n",
    "    b = np.asarray(np.split(a[0:2500*int(len(a)/2500)] , len(a[0:2500*int(len(a)/2500)])/2500 , axis=0))\n",
    "    \n",
    "    # Create a list to store split filenames for the given patient identification number\n",
    "    pid_filename_list = []\n",
    "    label_value = label[label.PID == PID].PH\n",
    "    \n",
    "    # Expand the label array to match the number of splits (chunks of 2500 samples)\n",
    "    label_npy = np.full((b.shape[0], ), label_value)\n",
    "    \n",
    "    for i in range(b.shape[0]):\n",
    "        pid_filename = f\"{PID}_{i+1}.npy\"\n",
    "        pid_filename_list.append(pid_filename)\n",
    "        np.save(path2 + pid_filename, b[i, :].reshape(1,-1))\n",
    "    \n",
    "    pid_filename_npy = np.array(pid_filename_list)\n",
    "    \n",
    "    return pid_filename_npy, label_npy"
   ]
  },
  {
   "cell_type": "code",
   "execution_count": null,
   "id": "1662650e",
   "metadata": {},
   "outputs": [],
   "source": [
    "total_pid_npy = np.array([])\n",
    "total_label_npy = np.array([])\n",
    "\n",
    "for i in range(len(label)):\n",
    "    pid_filename_npy, label_npy = signalprocessing('your_path1', 'your_label', 'your_path2')\n",
    "\n",
    "    total_pid_npy = np.append(total_pid_npy, pid_filename_npy)\n",
    "    total_label_npy = np.append(total_label_npy, label_npy)\n",
    "    print(i, \"done\",  label.PID[i])\n",
    "\n",
    "# Save preprocessed data and label files   \n",
    "np.save(\"your_processed_data_path\", total_pid_npy)\n",
    "np.save(\"your_processed_label_path\", total_label_npy)"
   ]
  }
 ],
 "metadata": {
  "language_info": {
   "name": "python"
  }
 },
 "nbformat": 4,
 "nbformat_minor": 5
}
