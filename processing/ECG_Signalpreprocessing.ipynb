{
 "cells": [
  {
   "cell_type": "code",
   "execution_count": null,
   "id": "f787b024-97d3-4951-83ab-7bbd3dccf0ac",
   "metadata": {},
   "outputs": [],
   "source": [
    "import numpy as np\n",
    "import pandas as pd\n",
    "import matplotlib.pyplot as plt\n",
    "import random\n",
    "import os\n",
    "import glob\n",
    "import neurokit2 as nk"
   ]
  },
  {
   "cell_type": "code",
   "execution_count": null,
   "id": "a5f5fb59",
   "metadata": {},
   "outputs": [],
   "source": [
    "# Label is a CSV file containing encrypted patient identification numbers that match the data.\n",
    "# Split data into segments of 2500 (10 seconds) and accumulate data\n",
    "# path1 is the existing file path, path2 is the path to save split signals\n",
    "def signalprocessing(path1, PID, path2):\n",
    "    # Read csv file as numpy\n",
    "    a = np.load(path1 + PID + '.npy')\n",
    "    \n",
    "    # Split received signal data into segments of 2500 by indexing in multiples of 2500\n",
    "    # Frequency 250Hz x 10 seconds    \n",
    "    b = np.asarray(np.split(a[0:2500*int(len(a)/2500)] , len(a[0:2500*int(len(a)/2500)])/2500 , axis=0))\n",
    "    \n",
    "    # Create a patient name list of the split segments\n",
    "    pid_filename_list = []\n",
    "    label_value = label[label.PID == PID].PH\n",
    "    \n",
    "    # Split labels as much as the data split by 2500\n",
    "    label_npy = np.full((b.shape[0], ), label_value)\n",
    "    \n",
    "    for i in range(b.shape[0]):\n",
    "        pid_filename = f\"{PID}_{i+1}.npy\"\n",
    "        pid_filename_list.append(pid_filename)\n",
    "        np.save(path2 + pid_filename, b[i, :].reshape(1,-1))\n",
    "        #print(b[i, :].reshape(1,-1).shape)\n",
    "        # np.save(pid_filename, b_[range_idx, :, :][i])\n",
    "    \n",
    "    pid_filename_npy = np.array(pid_filename_list)\n",
    "    \n",
    "    return pid_filename_npy, label_npy"
   ]
  },
  {
   "cell_type": "code",
   "execution_count": null,
   "id": "98fa63f5-0330-4595-8e8f-69dcab73c906",
   "metadata": {},
   "outputs": [],
   "source": [
    "total_pid_npy = np.array([])\n",
    "total_label_npy = np.array([])\n",
    "\n",
    "for i in range(len(label)):\n",
    "    pid_filename_npy, label_npy = signalprocessing(path1, label.PID[i], path2)\n",
    "\n",
    "    total_pid_npy = np.append(total_pid_npy, pid_filename_npy)\n",
    "    total_label_npy = np.append(total_label_npy, label_npy)\n",
    "    print(f\"Finished processing item number {i}: {label.PID[i]}\")\n",
    "\n",
    "# pid_save_path, label_save_path    \n",
    "np.save(pid_save_path, total_pid_npy)\n",
    "np.save(label_save_path, total_label_npy)"
   ]
  }
 ],
 "metadata": {
  "kernelspec": {
   "display_name": "kjw",
   "language": "python",
   "name": "kjw"
  },
  "language_info": {
   "codemirror_mode": {
    "name": "ipython",
    "version": 3
   },
   "file_extension": ".py",
   "mimetype": "text/x-python",
   "name": "python",
   "nbconvert_exporter": "python",
   "pygments_lexer": "ipython3",
   "version": "3.8.16"
  }
 },
 "nbformat": 4,
 "nbformat_minor": 5
}
